{
 "cells": [
  {
   "cell_type": "code",
   "execution_count": 1,
   "metadata": {},
   "outputs": [
    {
     "name": "stdout",
     "output_type": "stream",
     "text": [
      "Collecting pyreadstat\n",
      "  Downloading pyreadstat-1.2.7-cp312-cp312-win_amd64.whl.metadata (1.1 kB)\n",
      "Requirement already satisfied: pandas>=1.2.0 in c:\\users\\ultramarine\\.conda\\envs\\um_projekt\\lib\\site-packages (from pyreadstat) (2.1.3)\n",
      "Requirement already satisfied: numpy<2,>=1.26.0 in c:\\users\\ultramarine\\.conda\\envs\\um_projekt\\lib\\site-packages (from pandas>=1.2.0->pyreadstat) (1.26.1)\n",
      "Requirement already satisfied: python-dateutil>=2.8.2 in c:\\users\\ultramarine\\.conda\\envs\\um_projekt\\lib\\site-packages (from pandas>=1.2.0->pyreadstat) (2.8.2)\n",
      "Requirement already satisfied: pytz>=2020.1 in c:\\users\\ultramarine\\.conda\\envs\\um_projekt\\lib\\site-packages (from pandas>=1.2.0->pyreadstat) (2023.3.post1)\n",
      "Requirement already satisfied: tzdata>=2022.1 in c:\\users\\ultramarine\\.conda\\envs\\um_projekt\\lib\\site-packages (from pandas>=1.2.0->pyreadstat) (2023.3)\n",
      "Requirement already satisfied: six>=1.5 in c:\\users\\ultramarine\\.conda\\envs\\um_projekt\\lib\\site-packages (from python-dateutil>=2.8.2->pandas>=1.2.0->pyreadstat) (1.16.0)\n",
      "Downloading pyreadstat-1.2.7-cp312-cp312-win_amd64.whl (2.4 MB)\n",
      "   ---------------------------------------- 0.0/2.4 MB ? eta -:--:--\n",
      "   ---------------------------------------- 0.0/2.4 MB ? eta -:--:--\n",
      "   ---------------------------------------- 0.0/2.4 MB ? eta -:--:--\n",
      "   ---------------------------------------- 0.0/2.4 MB ? eta -:--:--\n",
      "    --------------------------------------- 0.0/2.4 MB 220.2 kB/s eta 0:00:11\n",
      "   - -------------------------------------- 0.1/2.4 MB 328.2 kB/s eta 0:00:08\n",
      "   -- ------------------------------------- 0.1/2.4 MB 610.6 kB/s eta 0:00:04\n",
      "   --- ------------------------------------ 0.2/2.4 MB 778.2 kB/s eta 0:00:03\n",
      "   ------ --------------------------------- 0.4/2.4 MB 1.2 MB/s eta 0:00:02\n",
      "   ------------ --------------------------- 0.8/2.4 MB 2.1 MB/s eta 0:00:01\n",
      "   --------------------- ------------------ 1.3/2.4 MB 3.2 MB/s eta 0:00:01\n",
      "   ------------------------------- -------- 1.9/2.4 MB 4.1 MB/s eta 0:00:01\n",
      "   ---------------------------------------  2.4/2.4 MB 5.0 MB/s eta 0:00:01\n",
      "   ---------------------------------------- 2.4/2.4 MB 4.8 MB/s eta 0:00:00\n",
      "Installing collected packages: pyreadstat\n",
      "Successfully installed pyreadstat-1.2.7\n"
     ]
    }
   ],
   "source": [
    "!pip install pyreadstat"
   ]
  },
  {
   "cell_type": "code",
   "execution_count": 2,
   "metadata": {},
   "outputs": [],
   "source": [
    "import pandas as pd\n",
    "df = pd.read_spss(\"polaczona-baza-danych-z-badania-pracodawcow-bkl-2018-2022.sav\")"
   ]
  },
  {
   "cell_type": "code",
   "execution_count": 3,
   "metadata": {},
   "outputs": [],
   "source": [
    "df.to_csv(\"polaczona-baza-danych-z-badania-pracodawcow-bkl-2018-2022.csv\", index=False)"
   ]
  }
 ],
 "metadata": {
  "kernelspec": {
   "display_name": "um_projekt",
   "language": "python",
   "name": "python3"
  },
  "language_info": {
   "codemirror_mode": {
    "name": "ipython",
    "version": 3
   },
   "file_extension": ".py",
   "mimetype": "text/x-python",
   "name": "python",
   "nbconvert_exporter": "python",
   "pygments_lexer": "ipython3",
   "version": "3.12.0"
  },
  "orig_nbformat": 4,
  "vscode": {
   "interpreter": {
    "hash": "b3de12a6a11bc8a73ecd4c29058e0e50cc3b30677744da752179723b13e931bc"
   }
  }
 },
 "nbformat": 4,
 "nbformat_minor": 2
}
